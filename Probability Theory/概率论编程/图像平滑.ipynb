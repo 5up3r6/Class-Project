{
 "cells": [
  {
   "cell_type": "code",
   "execution_count": null,
   "metadata": {},
   "outputs": [],
   "source": [
    "import cv2\n",
    "import numpy as np\n",
    "import matplotlib.pyplot as plt\n",
    "from scipy import signal\n",
    "def gaussBlur(image,sigma,H,W,_boundary='fill',_fillvalue=0):\n",
    "    gaussKenrnel_x=cv2.getGaussianKernel(sigma,W,cv2.CV_64F)\n",
    "    gaussKenrnel_x=np.transpose(gaussKenrnel_x)\n",
    "    gaussBlur_x=signal.convolve2d(image,gaussKenrnel_x,mode='same',boundary=_boundary,fillvalue=_fillvalue)\n",
    "    gaussKenrnel_y=cv2.getGaussianKernel(sigma,H,cv2.CV_64F)\n",
    "    gaussBlur_xy=signal.convolve2d(gaussBlur_x,gaussKenrnel_y,mode='same',boundary=_boundary,fillvalue=_fillvalue)\n",
    "    return gaussBlur_xy\n",
    "image=cv2.imread(\"平滑.jpg\",cv2.IMREAD_GRAYSCALE)\n",
    "cv2.imshow(\"image\",image)\n",
    "#H,W=image.shape\n",
    "blurImage=gaussBlur(image,5,50,50,'symm')\n",
    "blurImage=np.round(blurImage)\n",
    "blurImage=blurImage.astype(np.uint8)\n",
    "cv2.imshow(\"blurImage\",blurImage)\n",
    "cv2.waitKey(0)\n",
    "cv2.destroyAllWindows()\n"
   ]
  },
  {
   "cell_type": "code",
   "execution_count": null,
   "metadata": {},
   "outputs": [],
   "source": [
    "import cv2\n",
    "import numpy as np\n",
    "import matplotlib.pyplot as plt\n",
    "from scipy import signal\n",
    "def integral(image):\n",
    "    rows,cols=image.shape\n",
    "    inteImageC=np.zeros((rows,cols),np.float32)\n",
    "    for r in range(rows):\n",
    "        for c in range(cols):\n",
    "            if c==0:\n",
    "                inteImageC[r][c]=image[r][c]\n",
    "            else:\n",
    "                inteImageC[r][c]=inteImageC[r][c-1]+image[r][c]\n",
    "    inteImage=np.zeros(image.shape,np.float32)\n",
    "    for c in range(cols):\n",
    "        for r in range(rows):\n",
    "            if r==0:\n",
    "                inteImage[r][c]=inteImageC[r][c]\n",
    "            else:\n",
    "                inteImage[r][c]=inteImage[r-1][c]+inteImageC[r][c]\n",
    "    inteImage_0=np.zeros((rows+1,cols+1),np.float32)\n",
    "    inteImage_0[1:rows+1,1:cols+1]=inteImage\n",
    "    return inteImage_0\n",
    "def fastMeanBlur(image,winSize,borderType=cv2.BORDER_DEFAULT):\n",
    "    halfH=(winSize[0]-1)//2\n",
    "    halfW=(winSize[1]-1)//2\n",
    "    ratio=1.0/(winSize[0]*winSize[1])\n",
    "    paddImage=cv2.copyMakeBorder(image,halfH,halfH,halfW,halfW,borderType)\n",
    "    paddIntegral=integral(paddImage)\n",
    "    rows,cols=image.shape\n",
    "    meanBlurImage=np.zeros(image.shape,np.float32)\n",
    "    r,c=0,0\n",
    "    for h in range(halfH,halfH+rows,1):\n",
    "        for w in range(halfW,halfW+cols,1):\n",
    "            meanBlurImage[r][c]=ratio*(paddIntegral[h+halfH+1][w+halfW+1]+paddIntegral[h-halfH][w-halfW]-paddIntegral[h+halfH+1][w-halfW]-paddIntegral[h-halfH][w+halfW+1])\n",
    "            c+=1\n",
    "        r+=1\n",
    "        c=0\n",
    "    return meanBlurImage\n",
    "image=cv2.imread(\"平滑.jpg\",cv2.IMREAD_GRAYSCALE)\n",
    "cv2.imshow(\"image\",image)\n",
    "#H,W=image.shape\n",
    "blurImage=fastMeanBlur(image,(11,11))\n",
    "blurImage=np.round(blurImage)\n",
    "blurImage=blurImage.astype(np.uint8)\n",
    "cv2.imshow(\"blurImage\",blurImage)\n",
    "cv2.waitKey(0)\n",
    "cv2.destroyAllWindows()\n",
    "\n"
   ]
  },
  {
   "cell_type": "code",
   "execution_count": null,
   "metadata": {},
   "outputs": [],
   "source": []
  }
 ],
 "metadata": {
  "kernelspec": {
   "display_name": "Python 3",
   "language": "python",
   "name": "python3"
  },
  "language_info": {
   "codemirror_mode": {
    "name": "ipython",
    "version": 3
   },
   "file_extension": ".py",
   "mimetype": "text/x-python",
   "name": "python",
   "nbconvert_exporter": "python",
   "pygments_lexer": "ipython3",
   "version": "3.7.4"
  }
 },
 "nbformat": 4,
 "nbformat_minor": 2
}
