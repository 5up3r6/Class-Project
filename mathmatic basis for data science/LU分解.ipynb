{
 "cells": [
  {
   "cell_type": "code",
   "execution_count": 10,
   "metadata": {},
   "outputs": [
    {
     "name": "stdout",
     "output_type": "stream",
     "text": [
      "4\n",
      "5 3 -1 3\n",
      "0 1 1 -2\n",
      "-5 -3 4 -4\n",
      "0 1 1 0\n",
      "[[ 1.  0.  0.  0.]\n",
      " [ 0.  1.  0.  0.]\n",
      " [-1.  0.  1.  0.]\n",
      " [ 0.  1.  0.  1.]] \n",
      " [[ 5.  3. -1.  3.]\n",
      " [ 0.  1.  1. -2.]\n",
      " [ 0.  0.  3. -1.]\n",
      " [ 0.  0.  0.  2.]]\n"
     ]
    }
   ],
   "source": [
    "import numpy as np\n",
    "import pandas as pd\n",
    "\n",
    "def LU_decomposition(A):\n",
    "    L=np.zeros([m,m])\n",
    "    U= np.zeros([m,m])\n",
    "    for i in range(m):\n",
    "        L[i][i]=1\n",
    "        if i==0:\n",
    "            U[0][0]=A[0][0]\n",
    "        #u1就是A的第一行\n",
    "            for j in range(1,m):\n",
    "                U[0][j]=A[0][j]\n",
    "                L[j][0]=A[j][0]/U[0][0]\n",
    "        else:\n",
    "            #求U ui为A-l1u1-l2u2-...liui的第i 行\n",
    "            for j in range (0,m):\n",
    "                temp=0\n",
    "                for k in range(0,i):\n",
    "                    temp+=L[i][k]*U[k][j]\n",
    "                U[i][j]=A[i][j]-temp\n",
    "            #求L li为A-l1u1-l2u2-...liui的第i 列除以U[i][i]\n",
    "            for j in range (0,m):\n",
    "                temp=0\n",
    "                for k in range(0,i):\n",
    "                    temp+=L[j][k]*U[k][i]\n",
    "                L[j][i]=(A[j][i]-temp)/U[i][i]\n",
    "    return L,U        \n",
    "if __name__ == '__main__': \n",
    "    m = int(input())\n",
    "    A = [[] for i in range(m)]\n",
    "    for i in range(m):\n",
    "        line = input().split(' ')\n",
    "        for j in range(len(line)):\n",
    "            A[i].append(int(line[j]))\n",
    "    L,U=LU_decomposition(A)\n",
    "    print(L,'\\n',U)"
   ]
  },
  {
   "cell_type": "code",
   "execution_count": 2,
   "metadata": {},
   "outputs": [
    {
     "name": "stdout",
     "output_type": "stream",
     "text": [
      "5\n",
      "1 2 3 5 6\n",
      "3 5 7 3 6\n",
      "2 5 7 2 5\n",
      "3 5 2 4 3\n",
      "3 5 2 4 3\n"
     ]
    }
   ],
   "source": []
  },
  {
   "cell_type": "code",
   "execution_count": null,
   "metadata": {},
   "outputs": [],
   "source": []
  }
 ],
 "metadata": {
  "kernelspec": {
   "display_name": "Python 3",
   "language": "python",
   "name": "python3"
  },
  "language_info": {
   "codemirror_mode": {
    "name": "ipython",
    "version": 3
   },
   "file_extension": ".py",
   "mimetype": "text/x-python",
   "name": "python",
   "nbconvert_exporter": "python",
   "pygments_lexer": "ipython3",
   "version": "3.7.4"
  }
 },
 "nbformat": 4,
 "nbformat_minor": 2
}
