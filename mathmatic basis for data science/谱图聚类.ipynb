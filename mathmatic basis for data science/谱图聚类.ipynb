{
 "cells": [
  {
   "cell_type": "code",
   "execution_count": 113,
   "metadata": {},
   "outputs": [
    {
     "name": "stdout",
     "output_type": "stream",
     "text": [
      "[[0.         1.         1.         3.16227766 2.82842712 3.60555128]\n",
      " [1.         0.         1.41421356 2.23606798 2.23606798 2.82842712]\n",
      " [1.         1.41421356 0.         3.         2.23606798 3.16227766]\n",
      " [3.16227766 2.23606798 3.         0.         1.41421356 1.        ]\n",
      " [2.82842712 2.23606798 2.23606798 1.41421356 0.         1.        ]\n",
      " [3.60555128 2.82842712 3.16227766 1.         1.         0.        ]]\n",
      "[[0. 1. 1. 0. 1. 0.]\n",
      " [1. 0. 1. 1. 1. 1.]\n",
      " [1. 1. 0. 0. 1. 0.]\n",
      " [0. 1. 0. 0. 1. 1.]\n",
      " [1. 1. 1. 1. 0. 1.]\n",
      " [0. 1. 0. 1. 1. 0.]]\n",
      "[[ 3. -1. -1.  0. -1.  0.]\n",
      " [-1.  5. -1. -1. -1. -1.]\n",
      " [-1. -1.  3.  0. -1.  0.]\n",
      " [ 0. -1.  0.  3. -1. -1.]\n",
      " [-1. -1. -1. -1.  5. -1.]\n",
      " [ 0. -1.  0. -1. -1.  3.]]\n",
      "[[ 1.         -0.25819889 -0.33333333  0.         -0.25819889  0.        ]\n",
      " [-0.25819889  1.         -0.25819889 -0.25819889 -0.2        -0.25819889]\n",
      " [-0.33333333 -0.25819889  1.          0.         -0.25819889  0.        ]\n",
      " [ 0.         -0.25819889  0.          1.         -0.25819889 -0.33333333]\n",
      " [-0.25819889 -0.2        -0.25819889 -0.25819889  1.         -0.25819889]\n",
      " [ 0.         -0.25819889  0.         -0.33333333 -0.25819889  1.        ]]\n",
      "[1.11022302e-16 6.66666667e-01 1.33333333e+00 1.46666667e+00\n",
      " 1.33333333e+00 1.20000000e+00]\n",
      "[-4.76731295e-01 -1.08482720e-16 -7.55518558e-16  5.22232968e-01\n",
      "  1.43737363e-16  7.07106781e-01]\n"
     ]
    },
    {
     "data": {
      "image/png": "[encoded data removed]",
      "text/plain": [
       "<Figure size 432x288 with 1 Axes>"
      ]
     },
     "metadata": {
      "needs_background": "light"
     },
     "output_type": "display_data"
    }
   ],
   "source": [
    "import numpy as np\n",
    "import matplotlib.pyplot as plt\n",
    "\n",
    "\n",
    "def EuclidDistance(x1, x2):\n",
    "    res = np.sqrt(np.sum((x1-x2)**2))\n",
    "    return res\n",
    "\n",
    "def DistanceMatrix(X):\n",
    "    X = np.array(X)\n",
    "    S = np.zeros((len(X), len(X)))\n",
    "    for i in range(len(X)):\n",
    "        for j in range(i+1, len(X)):\n",
    "            S[i][j] = EuclidDistance(X[i], X[j])\n",
    "            S[j][i] = S[i][j]\n",
    "    return S\n",
    "def AdjacentMatrix(S, k, sigma=1.0):\n",
    "    N = len(S)\n",
    "    A = np.zeros((N,N))\n",
    "    for i in range(N):\n",
    "        list1=[]\n",
    "        for j in range(N):\n",
    "            list1.append(S[i][j])\n",
    "        list1.sort()\n",
    "        #print(list1[4])\n",
    "        #print(list1)\n",
    "        #B[i]=[np.sort(S[i][j],axis=1,kind='quicksort',order=None) for j in range(N)]\n",
    "        for j in range(N):          \n",
    "            if(S[i][j]<=list1[3] ):\n",
    "                A[i][j]=1.0\n",
    "            A[j][i]=A[i][j]\n",
    "        A[i][i]=0       \n",
    "    return A\n",
    "def LaplacianMatrix(AdjacentMatrix):\n",
    "\n",
    "    # 算度矩阵 放到对角线上\n",
    "    degreeMatrix = np.sum(AdjacentMatrix, axis=1)\n",
    "    #print(degreeMatrix)\n",
    "    #  L=D-A\n",
    "    laplacianMatrix =  np.diag(degreeMatrix)  - AdjacentMatrix\n",
    "    print( laplacianMatrix)\n",
    "\n",
    "    # 标准化\n",
    "    # D^(-1/2) L D^(-1/2)\n",
    "    Matrix = np.diag( degreeMatrix ** (-0.5))\n",
    "    a=[1,1,1,1,1,1]\n",
    "    #print( sqrtDegreeMatrix)\n",
    "    B=np.zeros((6,6))\n",
    "    C=np.zeros((6,6))\n",
    "    B=np.dot(Matrix,AdjacentMatrix)\n",
    "    C=np.dot(B,Matrix)\n",
    "    return np.diag(a)-C\n",
    "p=[[1,1,2,2,3,3],\n",
    "[4,3,4,1,2,1]]\n",
    "#plt.plot(p[0],p[1],'rx')\n",
    "#按照次小特征值得到的图\n",
    "m=[[1,1,2],[4,3,4]]\n",
    "n=[[2,3,3],[1,2,1]]\n",
    "plt.plot(m[0],m[1],'bo')\n",
    "plt.plot(n[0],n[1],'rx')\n",
    "if __name__ == '__main__': \n",
    "    data=[(1,4),(1,3),(2,4),(2,1),(3,2),(3,1)]\n",
    "    #X=np.array(data)\n",
    "    #print(X[1])\n",
    "    distance = DistanceMatrix(data)\n",
    "    print(distance)\n",
    "    Adjacent = AdjacentMatrix(distance, k=3)\n",
    "    print(Adjacent)\n",
    "    Laplacian = LaplacianMatrix(Adjacent)\n",
    "    print(Laplacian)\n",
    "    a,b=np.linalg.eig(Laplacian)\n",
    "    #print(b)\n",
    "    print(a)\n",
    "    print(b[1])\n"
   ]
  },
  {
   "cell_type": "code",
   "execution_count": null,
   "metadata": {},
   "outputs": [],
   "source": []
  }
 ],
 "metadata": {
  "kernelspec": {
   "display_name": "Python 3",
   "language": "python",
   "name": "python3"
  },
  "language_info": {
   "codemirror_mode": {
    "name": "ipython",
    "version": 3
   },
   "file_extension": ".py",
   "mimetype": "text/x-python",
   "name": "python",
   "nbconvert_exporter": "python",
   "pygments_lexer": "ipython3",
   "version": "3.7.4"
  }
 },
 "nbformat": 4,
 "nbformat_minor": 2
}
