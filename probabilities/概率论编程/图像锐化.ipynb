{
 "cells": [
  {
   "cell_type": "code",
   "execution_count": null,
   "metadata": {},
   "outputs": [],
   "source": [
    "import cv2\n",
    "import numpy as np\n",
    "#加载图像\n",
    "image = cv2.imread('favorite.png')\n",
    "#自定义卷积核\n",
    "kernel_sharpen = np.array([\n",
    "        [-1,-1,-1,-1,-1],\n",
    "        [-1,2,2,2,-1],\n",
    "        [-1,2,8,2,-1],\n",
    "        [-1,2,2,2,-1], \n",
    "        [-1,-1,-1,-1,-1]])/8.0\n",
    "#卷积\n",
    "\n",
    "output = cv2.filter2D(image,-1,kernel_sharpen)\n",
    "#显示锐化效果\n",
    "cv2.imshow('Original Image',image)\n",
    "cv2.imshow('sharpen_3 Image',output)\n",
    "#停顿\n",
    "if cv2.waitKey(0) & 0xFF == 27:\n",
    "    cv2.destroyAllWindows()"
   ]
  },
  {
   "cell_type": "code",
   "execution_count": null,
   "metadata": {},
   "outputs": [],
   "source": []
  }
 ],
 "metadata": {
  "kernelspec": {
   "display_name": "Python 3",
   "language": "python",
   "name": "python3"
  },
  "language_info": {
   "codemirror_mode": {
    "name": "ipython",
    "version": 3
   },
   "file_extension": ".py",
   "mimetype": "text/x-python",
   "name": "python",
   "nbconvert_exporter": "python",
   "pygments_lexer": "ipython3",
   "version": "3.7.4"
  }
 },
 "nbformat": 4,
 "nbformat_minor": 2
}
