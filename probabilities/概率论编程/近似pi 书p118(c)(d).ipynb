{
 "cells": [
  {
   "cell_type": "code",
   "execution_count": 22,
   "metadata": {},
   "outputs": [
    {
     "name": "stdout",
     "output_type": "stream",
     "text": [
      "0.7756775677567773\n"
     ]
    }
   ],
   "source": [
    "import random\n",
    "S=0\n",
    "for i in range (1,10000):\n",
    "    #构造圆 (x-1/2)^2+(y-1/2)^2=1/4\n",
    "    #判断随机选出的点是否在圆内\n",
    "    a=round(random.uniform(0,1),2)\n",
    "    b=round(random.uniform(0,1),2)\n",
    "    if ((a-0.50)**2+(b-0.50)**2<0.25):\n",
    "        x=1\n",
    "    else:\n",
    "        x=0\n",
    "    S=(i-1)*(S/i)+x/i\n",
    "print(S)"
   ]
  },
  {
   "cell_type": "code",
   "execution_count": 21,
   "metadata": {},
   "outputs": [
    {
     "name": "stdout",
     "output_type": "stream",
     "text": [
      "0.19\n"
     ]
    }
   ],
   "source": [
    "import random\n",
    "print(round(random.uniform(0,1),2))"
   ]
  },
  {
   "cell_type": "code",
   "execution_count": 28,
   "metadata": {},
   "outputs": [
    {
     "name": "stdout",
     "output_type": "stream",
     "text": [
      "0.37883788378837674\n"
     ]
    }
   ],
   "source": [
    "import random\n",
    "import math\n",
    "S=0\n",
    "for i in range (1,10000):\n",
    "    #构造圆 (x-1/2)^2+(y-1/2)^2=1/4\n",
    "    #判断随机选出的点是否在圆内\n",
    "    a=round(random.uniform(0,1),2)\n",
    "    b=round(random.uniform(0,1),2)\n",
    "    if (math.cos(math.pi*a)+math.sin(math.pi*b)>=0)and(math.cos(math.pi*a)+math.sin(math.pi*b)<=1):\n",
    "        x=1\n",
    "    else:\n",
    "        x=0\n",
    "    S=(i-1)*(S/i)+x/i\n",
    "print(S)"
   ]
  },
  {
   "cell_type": "code",
   "execution_count": null,
   "metadata": {},
   "outputs": [],
   "source": []
  }
 ],
 "metadata": {
  "kernelspec": {
   "display_name": "Python 3",
   "language": "python",
   "name": "python3"
  },
  "language_info": {
   "codemirror_mode": {
    "name": "ipython",
    "version": 3
   },
   "file_extension": ".py",
   "mimetype": "text/x-python",
   "name": "python",
   "nbconvert_exporter": "python",
   "pygments_lexer": "ipython3",
   "version": "3.7.4"
  }
 },
 "nbformat": 4,
 "nbformat_minor": 2
}
